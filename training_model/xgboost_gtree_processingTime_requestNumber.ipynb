{
 "cells": [
  {
   "cell_type": "markdown",
   "metadata": {},
   "source": [
    "# Preparing training data"
   ]
  },
  {
   "cell_type": "code",
   "execution_count": 5,
   "metadata": {},
   "outputs": [],
   "source": [
    "# -- import packages -- \n",
    "from pathlib import Path\n",
    "import numpy as np\n",
    "import xgboost as xgb\n",
    "import json\n",
    "from sklearn.model_selection import train_test_split\n",
    "from xgboost import XGBRegressor\n",
    "from sklearn.metrics import mean_absolute_error, mean_squared_error"
   ]
  },
  {
   "cell_type": "code",
   "execution_count": 6,
   "metadata": {},
   "outputs": [],
   "source": [
    "training_data_file_name = 'training_data_14.json'\n",
    "training_data_file_path = Path().absolute().parent / 'training_data' / training_data_file_name\n",
    "\n",
    "with open(training_data_file_path, 'r', encoding='utf-8') as f:\n",
    "    training_data = json.load(f)\n",
    "\n",
    "# X, y = np.array(training_data.get('request_number')).reshape(-1, 1), np.array([training_data.get('user_cpu_time')[i] + training_data.get('system_cpu_time')[i] for i in range(len(training_data.get('user_cpu_time')))])\n",
    "X, y = (np.array(training_data.get('request_number'))).reshape(-1, 1), np.array(training_data.get('real_processing_time'))\n",
    "\n",
    "X_train, X_temp, y_train, y_temp = train_test_split(\n",
    "    X, y, test_size=0.3, random_state=43\n",
    ")\n",
    "\n",
    "X_val, X_test, y_val, y_test = train_test_split(\n",
    "    X_temp, y_temp, test_size=0.5, random_state=43\n",
    ")"
   ]
  },
  {
   "cell_type": "markdown",
   "metadata": {},
   "source": [
    "# Xgboost"
   ]
  },
  {
   "cell_type": "code",
   "execution_count": 7,
   "metadata": {},
   "outputs": [
    {
     "name": "stdout",
     "output_type": "stream",
     "text": [
      "Mean Squared Error: 0.06381240236444247\n",
      "Mean Absolute Error: 0.17923703908309108\n",
      "    real    |    pred   \n",
      "\n",
      "    0.22593555500498042     |     0.6044009923934937      \n",
      "    0.09057151302113198     |     0.6044009923934937      \n",
      "    5.859078565001255     |     5.870300769805908      \n",
      "    1.5981379919976462     |     1.5633071660995483      \n",
      "    10.591882100998191     |     10.424696922302246      \n",
      "    1.3844525390013587     |     1.3407186269760132      \n",
      "    2.201748966006562     |     1.9338699579238892      \n",
      "    0.5876507259963546     |     0.6044009923934937      \n"
     ]
    }
   ],
   "source": [
    "dtrain = xgb.DMatrix(X_train, label=y_train)\n",
    "dval   = xgb.DMatrix(X_val,   label=y_val)\n",
    "dtest  = xgb.DMatrix(X_test,  label=y_test)\n",
    "\n",
    "# Create XGBoost regression model\n",
    "model = XGBRegressor(\n",
    "    objective=\"reg:squarederror\",\n",
    "    n_estimators=100,   # 基础学习器（树）的数量\n",
    "    max_depth=5,        # 树的最大深度\n",
    "    colsample_bytree=0.7,   # 随机选择特征的比例\n",
    "    random_state=42,     # 保持结果可复现\n",
    ")\n",
    "\n",
    "model.fit(X_train, y_train)\n",
    "y_pred = model.predict(X_test)\n",
    "mse = mean_squared_error(y_test, y_pred)\n",
    "mea = mean_absolute_error(y_test, y_pred)\n",
    "\n",
    "print(f\"Mean Squared Error: {mse}\")\n",
    "print(f\"Mean Absolute Error: {mea}\")\n",
    "\n",
    "\n",
    "print(f\"    real    |    pred   \\n\")\n",
    "for i in range(len(y_test)):\n",
    "    print(f\"    {y_test[i]}     |     {y_pred[i]}      \")"
   ]
  },
  {
   "cell_type": "markdown",
   "metadata": {},
   "source": [
    "# Save model"
   ]
  },
  {
   "cell_type": "code",
   "execution_count": 8,
   "metadata": {},
   "outputs": [],
   "source": [
    "model.save_model(Path() / 'modelsfile' / 'xgboost_newest_model_2.json')"
   ]
  }
 ],
 "metadata": {
  "kernelspec": {
   "display_name": ".venv",
   "language": "python",
   "name": "python3"
  },
  "language_info": {
   "codemirror_mode": {
    "name": "ipython",
    "version": 3
   },
   "file_extension": ".py",
   "mimetype": "text/x-python",
   "name": "python",
   "nbconvert_exporter": "python",
   "pygments_lexer": "ipython3",
   "version": "3.12.0"
  }
 },
 "nbformat": 4,
 "nbformat_minor": 2
}
