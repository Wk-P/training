{
 "cells": [
  {
   "cell_type": "markdown",
   "metadata": {},
   "source": [
    "# Preparing training data"
   ]
  },
  {
   "cell_type": "code",
   "execution_count": 1,
   "metadata": {},
   "outputs": [],
   "source": [
    "# -- import packages -- \n",
    "from pathlib import Path\n",
    "import numpy as np\n",
    "import xgboost as xgb\n",
    "import json\n",
    "from sklearn.model_selection import train_test_split\n",
    "from xgboost import XGBRegressor\n",
    "from sklearn.metrics import mean_absolute_error, mean_squared_error"
   ]
  },
  {
   "cell_type": "code",
   "execution_count": 2,
   "metadata": {},
   "outputs": [
    {
     "name": "stdout",
     "output_type": "stream",
     "text": [
      "(500, 3) (500,)\n"
     ]
    }
   ],
   "source": [
    "# 读取数据\n",
    "training_data_file_name = 'training_data_16.json'\n",
    "training_data_file_path = Path().absolute().parent / 'training_data' / training_data_file_name\n",
    "\n",
    "with open(training_data_file_path, 'r', encoding='utf-8') as f:\n",
    "    training_data = json.load(f)\n",
    "\n",
    "# 获取数据\n",
    "waiting_time_array = np.array(training_data.get('real_waiting_time'))\n",
    "request_number = training_data.get('request_number')\n",
    "predicted_processing_time = training_data.get('predicted_processing_time')\n",
    "waiting_jobs = training_data.get('waiting_jobs')\n",
    "\n",
    "# 确保数据长度一致\n",
    "assert len(request_number) == len(predicted_processing_time) == len(waiting_jobs) == len(waiting_time_array), \"All lists must have the same length\"\n",
    "\n",
    "# 合并特征数据\n",
    "X = np.array(list(zip(request_number, predicted_processing_time, waiting_jobs)))\n",
    "\n",
    "# 目标变量\n",
    "y = np.array(waiting_time_array)\n",
    "\n",
    "# 打印数据形状\n",
    "print(X.shape, y.shape)\n",
    "\n",
    "# 分割数据集\n",
    "X_train, X_temp, y_train, y_temp = train_test_split(X, y, test_size=0.3, random_state=41)\n",
    "\n",
    "X_val, X_test, y_val, y_test = train_test_split(X_temp, y_temp, test_size=0.5, random_state=43)\n"
   ]
  },
  {
   "cell_type": "markdown",
   "metadata": {},
   "source": [
    "# Xgboost"
   ]
  },
  {
   "cell_type": "code",
   "execution_count": 3,
   "metadata": {},
   "outputs": [
    {
     "name": "stdout",
     "output_type": "stream",
     "text": [
      "Mean Squared Error: 863.7795830452054\n",
      "Mean Absolute Error: 22.216949783960978\n",
      "Mean of y_test: 1304.0554750665028\n",
      "Accuracy: 0.9829631866061312\n",
      "    real    |    pred   \n",
      "\n",
      "    105.54915356636047     |     110.3502426147461      \n",
      "    989.0137057304382     |     966.6753540039062      \n",
      "    2298.191405057907     |     2276.81982421875      \n",
      "    2151.064654111862     |     2191.77685546875      \n",
      "    2441.9931440353394     |     2424.07080078125      \n",
      "    1306.0559763908386     |     1313.2608642578125      \n",
      "    255.08117651939392     |     290.3401184082031      \n",
      "    2288.3678312301636     |     2248.03662109375      \n",
      "    1676.9705114364624     |     1677.49853515625      \n",
      "    1604.2398567199707     |     1590.085205078125      \n",
      "    1630.6549534797668     |     1620.018310546875      \n",
      "    1491.9514214992523     |     1489.5628662109375      \n",
      "    750.0098257064819     |     747.092529296875      \n",
      "    2285.8876373767853     |     2262.430419921875      \n",
      "    975.5771358013153     |     984.1061401367188      \n",
      "    1278.5565733909607     |     1227.07666015625      \n",
      "    631.7760829925537     |     647.2537231445312      \n",
      "    755.69513630867     |     747.092529296875      \n",
      "    491.1293206214905     |     520.2261962890625      \n",
      "    832.2845916748047     |     844.4189453125      \n",
      "    807.7872455120087     |     868.488037109375      \n",
      "    1909.1279871463776     |     1905.404541015625      \n",
      "    1384.4012241363525     |     1389.1953125      \n",
      "    2254.670779466629     |     2225.608154296875      \n",
      "    2309.976420402527     |     2262.430419921875      \n",
      "    2076.366714000702     |     2102.93359375      \n",
      "    722.3151206970215     |     720.443115234375      \n",
      "    1051.8815693855286     |     1084.0557861328125      \n",
      "    1919.8847002983093     |     1890.4578857421875      \n",
      "    1771.9449124336243     |     1743.48828125      \n",
      "    1387.9339141845703     |     1399.4521484375      \n",
      "    1748.9408721923828     |     1739.635986328125      \n",
      "    1693.4334955215454     |     1662.6510009765625      \n",
      "    1842.029194355011     |     1802.411376953125      \n",
      "    469.500586271286     |     502.849609375      \n",
      "    820.8930044174194     |     846.037841796875      \n",
      "    367.6821234226227     |     331.2647705078125      \n",
      "    1154.2456638813019     |     1170.1744384765625      \n",
      "    59.18908619880676     |     60.000919342041016      \n",
      "    1661.243941783905     |     1654.677490234375      \n",
      "    2011.9164805412292     |     1963.8450927734375      \n",
      "    800.2038657665253     |     781.777099609375      \n",
      "    2158.9290430545807     |     2056.842529296875      \n",
      "    2437.6919791698456     |     2425.877197265625      \n",
      "    1527.2654886245728     |     1506.0672607421875      \n",
      "    618.2280886173248     |     626.9718017578125      \n",
      "    2108.5487406253815     |     2085.09033203125      \n",
      "    151.19041514396667     |     153.09938049316406      \n",
      "    892.519590139389     |     854.6177368164062      \n",
      "    353.3829538822174     |     343.87945556640625      \n",
      "    2178.897677898407     |     2195.4169921875      \n",
      "    872.914311170578     |     868.7266235351562      \n",
      "    200.3349175453186     |     215.3769989013672      \n",
      "    766.1142535209656     |     775.910888671875      \n",
      "    1694.1060016155243     |     1667.467041015625      \n",
      "    803.4866743087769     |     844.4189453125      \n",
      "    1267.5119223594666     |     1267.453857421875      \n",
      "    1770.3359117507935     |     1733.45654296875      \n",
      "    856.8226354122162     |     854.6177368164062      \n",
      "    483.9800708293915     |     482.56768798828125      \n",
      "    1098.7615492343903     |     1087.637451171875      \n",
      "    1657.1761803627014     |     1655.705322265625      \n",
      "    2457.9470911026     |     2430.64306640625      \n",
      "    2026.7187218666077     |     2020.2000732421875      \n",
      "    599.5140237808228     |     573.8092041015625      \n",
      "    1565.796071767807     |     1577.4705810546875      \n",
      "    1182.0887956619263     |     1178.752197265625      \n",
      "    980.6031458377838     |     907.1873779296875      \n",
      "    1352.4764342308044     |     1414.22998046875      \n",
      "    1996.9946911334991     |     1985.7462158203125      \n",
      "    1497.0173194408417     |     1489.5628662109375      \n",
      "    2312.5705122947693     |     2253.704345703125      \n",
      "    270.98862624168396     |     290.43658447265625      \n",
      "    294.1699969768524     |     316.2535095214844      \n",
      "    903.4577987194061     |     858.484375      \n"
     ]
    }
   ],
   "source": [
    "dtrain = xgb.DMatrix(X_train, label=y_train)\n",
    "dval   = xgb.DMatrix(X_val,   label=y_val)\n",
    "dtest  = xgb.DMatrix(X_test,  label=y_test)\n",
    "\n",
    "# Create XGBoost regression model\n",
    "model = XGBRegressor(\n",
    "    booster='gbtree',\n",
    "    n_estimators=21,   # 基础学习器（树）的数量\n",
    "    max_depth=3,        # 树的最大深度\n",
    "    colsample_bytree=0.7,   # 随机选择特征的比例\n",
    "    random_state=22,     # 保持结果可复现\n",
    ")\n",
    "\n",
    "model.fit(X_train, y_train)\n",
    "y_pred = model.predict(X_test)\n",
    "mse = mean_squared_error(y_test, y_pred)\n",
    "mea = mean_absolute_error(y_test, y_pred)\n",
    "\n",
    "print(f\"Mean Squared Error: {mse}\")\n",
    "print(f\"Mean Absolute Error: {mea}\")\n",
    "print(f\"Mean of y_test: {np.mean(y_test)}\")\n",
    "print(f\"Accuracy: {(np.mean(y_test) - mea) / np.mean(y_test)}\")\n",
    "\n",
    "print(f\"    real    |    pred   \\n\")\n",
    "for i in range(len(y_test)):\n",
    "    print(f\"    {y_test[i]}     |     {y_pred[i]}      \")"
   ]
  },
  {
   "cell_type": "markdown",
   "metadata": {},
   "source": [
    "# Save model"
   ]
  },
  {
   "cell_type": "code",
   "execution_count": 4,
   "metadata": {},
   "outputs": [],
   "source": [
    "model.save_model(Path() / 'modelsfile' / 'xgboost_waiting_time_model_1.json')"
   ]
  }
 ],
 "metadata": {
  "kernelspec": {
   "display_name": ".venv",
   "language": "python",
   "name": "python3"
  },
  "language_info": {
   "codemirror_mode": {
    "name": "ipython",
    "version": 3
   },
   "file_extension": ".py",
   "mimetype": "text/x-python",
   "name": "python",
   "nbconvert_exporter": "python",
   "pygments_lexer": "ipython3",
   "version": "3.12.0"
  }
 },
 "nbformat": 4,
 "nbformat_minor": 2
}
